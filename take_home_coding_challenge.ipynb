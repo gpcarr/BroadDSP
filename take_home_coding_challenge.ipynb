{
 "cells": [
  {
   "cell_type": "code",
   "execution_count": 3,
   "metadata": {},
   "outputs": [],
   "source": [
    "import requests"
   ]
  },
  {
   "cell_type": "markdown",
   "metadata": {},
   "source": [
    "## Question 1"
   ]
  },
  {
   "cell_type": "markdown",
   "metadata": {},
   "source": [
    "First, we define our request URL with its query parameters. Using the Requests library, we send a GET request with the given URL and query parameters. I chose option 2 (to filter by type as we make the HTTP request) because it reduces the amount of data we are requesting from mbta therefore reducing the amount of data we have to process on our end."
   ]
  },
  {
   "cell_type": "code",
   "execution_count": 4,
   "metadata": {},
   "outputs": [
    {
     "name": "stdout",
     "output_type": "stream",
     "text": [
      "Red Line\n",
      "Mattapan Trolley\n",
      "Orange Line\n",
      "Green Line B\n",
      "Green Line C\n",
      "Green Line D\n",
      "Green Line E\n",
      "Blue Line\n"
     ]
    }
   ],
   "source": [
    "URL = \"https://api-v3.mbta.com/routes\"\n",
    "types = \"0,1\"\n",
    "query_params = {'filter[type]': types}\n",
    "\n",
    "request = requests.get(url = URL, params = query_params)\n",
    "\n",
    "data = request.json()\n",
    "for i in data['data']:\n",
    "    print(i['attributes']['long_name'])"
   ]
  },
  {
   "cell_type": "markdown",
   "metadata": {},
   "source": [
    "## Question 2"
   ]
  },
  {
   "cell_type": "markdown",
   "metadata": {},
   "source": [
    "As I read this question, I began to think it may be better to represent routes and stops as objects instead of having to iterate through the response from question 1. In order to find how many stops are on a given route, we need to make a GET request to endpoint `https://api-v3.mbta.com/stops?filter[route]=TODO`  "
   ]
  },
  {
   "cell_type": "code",
   "execution_count": 5,
   "metadata": {},
   "outputs": [],
   "source": [
    "class Route:\n",
    "    def __init__(self, _id, long_name):\n",
    "        self._id = _id\n",
    "        self.long_name = long_name"
   ]
  },
  {
   "cell_type": "code",
   "execution_count": 6,
   "metadata": {},
   "outputs": [],
   "source": [
    "routes = []\n",
    "for i in data['data']:\n",
    "    route = Route(i['id'], i['attributes']['long_name'])\n",
    "    routes.append(route)"
   ]
  },
  {
   "cell_type": "code",
   "execution_count": 7,
   "metadata": {},
   "outputs": [],
   "source": [
    "class Stop:\n",
    "    def __init__(self, _id, name, route):\n",
    "        self._id = _id\n",
    "        self.name = name\n",
    "        self.route = route"
   ]
  },
  {
   "cell_type": "code",
   "execution_count": 8,
   "metadata": {},
   "outputs": [],
   "source": [
    "URL = \"https://api-v3.mbta.com/stops\"\n",
    "\n",
    "# For parts 1 and 2\n",
    "stops = []\n",
    "routes_with_stops = {}\n",
    "\n",
    "# For part 3, dict with key: stop, value: [# routes that stop here, [names of routes]]\n",
    "stops_with_routes = {}\n",
    "for route in routes:\n",
    "    route_id = route._id\n",
    "\n",
    "    query_params = {'filter[route]': ('%s'%route_id)}\n",
    "    request = requests.get(url = URL, params = query_params)\n",
    "    data = request.json()\n",
    "    \n",
    "    routes_with_stops[route_id] = 0\n",
    "    \n",
    "    for i in data['data']:\n",
    "        stop = Stop(i['id'], i['attributes']['name'], route_id)\n",
    "        stops.append(stop)\n",
    "        routes_with_stops[route_id] += 1\n",
    "        \n",
    "        if stop.name in stops_with_routes.keys():\n",
    "            stops_with_routes[stop.name][0] += 1\n",
    "            if route_id not in stops_with_routes[stop.name][1]: \n",
    "                stops_with_routes[stop.name][1].append(route_id) \n",
    "        else:\n",
    "            stops_with_routes[stop.name] = [1, [route_id]]\n",
    "\n",
    "        \n",
    "most_stops = float(\"-inf\")\n",
    "least_stops = float(\"inf\")\n",
    "route_most_stops = \"\"\n",
    "route_least_stops = \"\"\n",
    "for route,stop in routes_with_stops.items():\n",
    "    if stop > most_stops:\n",
    "        most_stops = stop\n",
    "        route_most_stops = route\n",
    "    if stop < least_stops:\n",
    "        least_stops = stop\n",
    "        route_least_stops = route"
   ]
  },
  {
   "cell_type": "markdown",
   "metadata": {},
   "source": [
    "### Part 1"
   ]
  },
  {
   "cell_type": "code",
   "execution_count": 9,
   "metadata": {},
   "outputs": [
    {
     "name": "stdout",
     "output_type": "stream",
     "text": [
      "Subway route with most stops: Green-B (24 stops)\n"
     ]
    }
   ],
   "source": [
    "print(\"Subway route with most stops: %s (%s stops)\"%(route_most_stops, most_stops))"
   ]
  },
  {
   "cell_type": "markdown",
   "metadata": {},
   "source": [
    "##"
   ]
  }
 ],
 "metadata": {
  "kernelspec": {
   "display_name": "Python 3",
   "language": "python",
   "name": "python3"
  },
  "language_info": {
   "codemirror_mode": {
    "name": "ipython",
    "version": 3
   },
   "file_extension": ".py",
   "mimetype": "text/x-python",
   "name": "python",
   "nbconvert_exporter": "python",
   "pygments_lexer": "ipython3",
   "version": "3.7.6"
  }
 },
 "nbformat": 4,
 "nbformat_minor": 4
}
