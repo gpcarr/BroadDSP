{
 "cells": [
  {
   "cell_type": "code",
   "execution_count": 3,
   "metadata": {},
   "outputs": [],
   "source": [
    "import requests"
   ]
  },
  {
   "cell_type": "markdown",
   "metadata": {},
   "source": [
    "## Question 1"
   ]
  },
  {
   "cell_type": "markdown",
   "metadata": {},
   "source": [
    "First, we define our request URL with its query parameters. Using the Requests library, we send a GET request with the given URL and query parameters. I chose option 2 (to filter by type as we make the HTTP request) because it reduces the amount of data we are requesting from mbta therefore reducing the amount of data we have to process on our end. The answer to question 1 is printed below the following code block:"
   ]
  },
  {
   "cell_type": "code",
   "execution_count": 22,
   "metadata": {},
   "outputs": [
    {
     "name": "stdout",
     "output_type": "stream",
     "text": [
      "Red Line\n",
      "Mattapan Trolley\n",
      "Orange Line\n",
      "Green Line B\n",
      "Green Line C\n",
      "Green Line D\n",
      "Green Line E\n",
      "Blue Line\n"
     ]
    }
   ],
   "source": [
    "URL = \"https://api-v3.mbta.com/routes\"\n",
    "types = \"0,1\"\n",
    "query_params = {'filter[type]': types}\n",
    "\n",
    "request = requests.get(url = URL, params = query_params)\n",
    "\n",
    "data = request.json()\n",
    "for i in data['data']:\n",
    "    print(i['attributes']['long_name'])"
   ]
  },
  {
   "cell_type": "markdown",
   "metadata": {},
   "source": [
    "## Question 2"
   ]
  },
  {
   "cell_type": "markdown",
   "metadata": {},
   "source": [
    "As I read this question, I began to think it may be better to represent routes and stops as objects instead of having to iterate through the response from question 1. In order to find how many stops are on a given route, we need to make a GET request to endpoint `https://api-v3.mbta.com/stops?filter[route]={route_id}`. First, we define the class `Route` with attributes `id` and `long_name`"
   ]
  },
  {
   "cell_type": "code",
   "execution_count": 23,
   "metadata": {},
   "outputs": [],
   "source": [
    "class Route:\n",
    "    def __init__(self, _id, long_name):\n",
    "        self._id = _id\n",
    "        self.long_name = long_name"
   ]
  },
  {
   "cell_type": "markdown",
   "metadata": {},
   "source": [
    "We then define an array `routes` which will hold all our `Route` objects."
   ]
  },
  {
   "cell_type": "code",
   "execution_count": 24,
   "metadata": {},
   "outputs": [],
   "source": [
    "routes = []\n",
    "for i in data['data']:\n",
    "    route = Route(i['id'], i['attributes']['long_name'])\n",
    "    routes.append(route)"
   ]
  },
  {
   "cell_type": "markdown",
   "metadata": {},
   "source": [
    "We then define a `Stop` class with attributes `id`, `name`, and `route`. Here, we see a many to one relationship. Multiple stops will belong to a single route (reflected by the `route` attribute on the `Stop` object). Vice-versa, a single route will have many stops."
   ]
  },
  {
   "cell_type": "code",
   "execution_count": 25,
   "metadata": {},
   "outputs": [],
   "source": [
    "class Stop:\n",
    "    def __init__(self, _id, name, route):\n",
    "        self._id = _id\n",
    "        self.name = name\n",
    "        self.route = route"
   ]
  },
  {
   "cell_type": "markdown",
   "metadata": {},
   "source": [
    "We now have a list of `Route` objects which we can iterate through and send an HTTP GET Request for each route to find its given stops. As we get the stops for a given `Route`, we can keep track of how many stops there are per route using a dictionary `routes_with_stops` and every time we create a `Stop` object we can increment our count of stops for that `Route`. For part 3, we are interested in which stops have more than 1 route going through them. We can keep track of this in the same `for` loop using a dictionary called `stops_with_routes`. For each stop, we can append the route which it belongs to. Stops with multiple routes will be returned by each request for that route."
   ]
  },
  {
   "cell_type": "code",
   "execution_count": 26,
   "metadata": {},
   "outputs": [],
   "source": [
    "URL = \"https://api-v3.mbta.com/stops\"\n",
    "\n",
    "stops = []\n",
    "# For parts 1 and 2, dict with key: route, value: # of stops for that route\n",
    "routes_with_stops = {}\n",
    "\n",
    "# For part 3, dict with key: stop, value: [# routes that stop here, [names of routes]]\n",
    "stops_with_routes = {}\n",
    "\n",
    "for route in routes:\n",
    "    route_id = route._id\n",
    "\n",
    "    query_params = {'filter[route]': ('%s'%route_id)}\n",
    "    request = requests.get(url = URL, params = query_params)\n",
    "    data = request.json()\n",
    "    \n",
    "    routes_with_stops[route_id] = 0\n",
    "    \n",
    "    for i in data['data']:\n",
    "        stop = Stop(i['id'], i['attributes']['name'], route_id)\n",
    "        stops.append(stop)\n",
    "        routes_with_stops[route_id] += 1\n",
    "        \n",
    "        if stop.name in stops_with_routes.keys():\n",
    "            stops_with_routes[stop.name][0] += 1\n",
    "            if route_id not in stops_with_routes[stop.name][1]: \n",
    "                stops_with_routes[stop.name][1].append(route_id) \n",
    "        else:\n",
    "            stops_with_routes[stop.name] = [1, [route_id]]\n",
    "\n",
    "\n",
    "most_stops = float(\"-inf\")\n",
    "least_stops = float(\"inf\")\n",
    "route_most_stops = \"\"\n",
    "route_least_stops = \"\"\n",
    "\n",
    "# iterate through dict (key: route, val: # stops for that route) keeping track of which route has the most\n",
    "# and least stops\n",
    "for route,stop in routes_with_stops.items():\n",
    "    if stop > most_stops:\n",
    "        most_stops = stop\n",
    "        route_most_stops = route\n",
    "    if stop < least_stops:\n",
    "        least_stops = stop\n",
    "        route_least_stops = route"
   ]
  },
  {
   "cell_type": "markdown",
   "metadata": {},
   "source": [
    "### Part 1"
   ]
  },
  {
   "cell_type": "code",
   "execution_count": 27,
   "metadata": {},
   "outputs": [
    {
     "name": "stdout",
     "output_type": "stream",
     "text": [
      "Subway route with most stops: Green-B (24 stops)\n"
     ]
    }
   ],
   "source": [
    "print(\"Subway route with most stops: %s (%s stops)\"%(route_most_stops, most_stops))"
   ]
  },
  {
   "cell_type": "markdown",
   "metadata": {},
   "source": [
    "### Part 2"
   ]
  },
  {
   "cell_type": "code",
   "execution_count": 28,
   "metadata": {},
   "outputs": [
    {
     "name": "stdout",
     "output_type": "stream",
     "text": [
      "Subway route with least stops: Mattapan (8 stops)\n"
     ]
    }
   ],
   "source": [
    "print(\"Subway route with least stops: %s (%s stops)\"%(route_least_stops, least_stops))"
   ]
  },
  {
   "cell_type": "markdown",
   "metadata": {},
   "source": [
    "### Part 3"
   ]
  },
  {
   "cell_type": "code",
   "execution_count": 29,
   "metadata": {},
   "outputs": [
    {
     "name": "stdout",
     "output_type": "stream",
     "text": [
      "The following stops connect 2 or more subway routes:\n",
      "stop: Park Street; routes that connect: ['Red', 'Green-B', 'Green-C', 'Green-D', 'Green-E']\n",
      "stop: Downtown Crossing; routes that connect: ['Red', 'Orange']\n",
      "stop: Ashmont; routes that connect: ['Red', 'Mattapan']\n",
      "stop: State; routes that connect: ['Orange', 'Blue']\n",
      "stop: Haymarket; routes that connect: ['Orange', 'Green-C', 'Green-E']\n",
      "stop: North Station; routes that connect: ['Orange', 'Green-C', 'Green-E']\n",
      "stop: Saint Paul Street; routes that connect: ['Green-B', 'Green-C']\n",
      "stop: Kenmore; routes that connect: ['Green-B', 'Green-C', 'Green-D']\n",
      "stop: Hynes Convention Center; routes that connect: ['Green-B', 'Green-C', 'Green-D']\n",
      "stop: Copley; routes that connect: ['Green-B', 'Green-C', 'Green-D', 'Green-E']\n",
      "stop: Arlington; routes that connect: ['Green-B', 'Green-C', 'Green-D', 'Green-E']\n",
      "stop: Boylston; routes that connect: ['Green-B', 'Green-C', 'Green-D', 'Green-E']\n",
      "stop: Government Center; routes that connect: ['Green-C', 'Green-D', 'Green-E', 'Blue']\n"
     ]
    }
   ],
   "source": [
    "print(\"The following stops connect 2 or more subway routes:\")\n",
    "# iterate through dict (key: stop, value: [# routes that pass thru that stop, route names that pass thru])\n",
    "# we are interested in the stops that have more than 1 route passing thru it\n",
    "for stop, routes in stops_with_routes.items():\n",
    "    if routes[0] > 1:\n",
    "        print(\"stop: \" + str(stop) + \"; routes that connect: \" + str(routes[1]))"
   ]
  },
  {
   "cell_type": "markdown",
   "metadata": {},
   "source": [
    "## Question 3"
   ]
  },
  {
   "cell_type": "markdown",
   "metadata": {},
   "source": [
    "For this question, we want to find out how many times one must transfer lines in order to get from stop A to stop B. First, I find the `Stop` object based on the inputed string. Then I get the route that stop belongs to. Conveniently, in question 2 we found which stops have more than 1 route passing through it meaning these stops are our points of transfer. If our start route is the same as our end route then we do not need to switch lines. Otherwise, we need to check which stop we can get to on the same route that allows us to transfer to another line. We do this by keeping track of which route we are currently on and which routes we have already seen. If I am on the green line, I need to find all the stops that have more than 1 line passing through which will allow me to transfer. We check each stop by using our `stops_with_routes` dictionary which gives us other routes we can take from that stop. We want to try the routes we haven't already tried other than the route we came from. Each time we try a route, this simulates transfering to another line so we update our starting location every time we transfer. We know we have reached our destination when our starting location is the same as our ending location."
   ]
  },
  {
   "cell_type": "code",
   "execution_count": 96,
   "metadata": {},
   "outputs": [],
   "source": [
    "def getStop(stop):\n",
    "    for i in stops:\n",
    "        if stop in i.name:\n",
    "            return i\n",
    "\n",
    "def findRoute(start, end, res):\n",
    "    # get the route we start on and want to end on\n",
    "    start_route = getStop(start).route\n",
    "    end_route = getStop(end).route\n",
    "    \n",
    "    # call our helper method to calculate how many times we transfer before reaching our destination\n",
    "    res = findAllRoutes(start_route, end_route, res, set())\n",
    "    \n",
    "    # format the result\n",
    "    green_line = False\n",
    "    ans = \"\"\n",
    "    for i in res:\n",
    "        if \"Green\" in i:\n",
    "            if not green_line:\n",
    "                ans += \"Greenline, \"\n",
    "                green_line = True\n",
    "        else:\n",
    "            ans += i + \"line, \"\n",
    "    return ans[:-2]\n",
    "        \n",
    "    \n",
    "def findAllRoutes(start_route, end_route, res, seen):\n",
    "    # if we are on the same route as our destination stop then we return\n",
    "    if start_route == end_route:\n",
    "        res.append(end_route)\n",
    "        return res\n",
    "    # else we need to check if we can get to our destination by transfering to what's available to us\n",
    "    for stop, routes in stops_with_routes.items():\n",
    "        # we can only transfer at stops with more than 1 route passing through\n",
    "        if len(routes[1]) > 1:\n",
    "            # if our starting route (line) is in the current stop's routes then we can transfer here\n",
    "            if start_route in routes[1]:\n",
    "                # we check each route we can transfer to\n",
    "                for route in routes[1]:\n",
    "                    # we skip the route we are already on and also skip routes we've already checked\n",
    "                    if route != start_route and route not in seen:\n",
    "                        res.append(start_route)\n",
    "                        seen.add(start_route)\n",
    "                        # our new start is the route to which we transfer to\n",
    "                        start_route = route\n",
    "                        return findAllRoutes(start_route, end_route, res, seen)    "
   ]
  },
  {
   "cell_type": "code",
   "execution_count": 97,
   "metadata": {},
   "outputs": [
    {
     "name": "stdout",
     "output_type": "stream",
     "text": [
      "Blueline, Orangeline, Redline\n"
     ]
    }
   ],
   "source": [
    "print(findRoute(\"Airport\", \"Central\", []))"
   ]
  },
  {
   "cell_type": "markdown",
   "metadata": {},
   "source": [
    "If the above cell does not print anything then we know we cannot get from stop 1 to stop 2."
   ]
  }
 ],
 "metadata": {
  "kernelspec": {
   "display_name": "Python 3",
   "language": "python",
   "name": "python3"
  },
  "language_info": {
   "codemirror_mode": {
    "name": "ipython",
    "version": 3
   },
   "file_extension": ".py",
   "mimetype": "text/x-python",
   "name": "python",
   "nbconvert_exporter": "python",
   "pygments_lexer": "ipython3",
   "version": "3.7.6"
  }
 },
 "nbformat": 4,
 "nbformat_minor": 4
}
