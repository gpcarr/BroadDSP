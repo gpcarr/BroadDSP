{
 "cells": [
  {
   "cell_type": "code",
   "execution_count": 3,
   "metadata": {},
   "outputs": [],
   "source": [
    "import requests"
   ]
  },
  {
   "cell_type": "markdown",
   "metadata": {},
   "source": [
    "## Question 1"
   ]
  },
  {
   "cell_type": "markdown",
   "metadata": {},
   "source": [
    "First, we define our request URL with its query parameters. Using the Requests library, we send a GET request with the given URL and query parameters. I chose option 2 (to filter by type as we make the HTTP request) because it reduces the amount of data we are requesting from mbta therefore reducing the amount of data we have to process on our end."
   ]
  },
  {
   "cell_type": "code",
   "execution_count": 22,
   "metadata": {},
   "outputs": [
    {
     "name": "stdout",
     "output_type": "stream",
     "text": [
      "Red Line\n",
      "Mattapan Trolley\n",
      "Orange Line\n",
      "Green Line B\n",
      "Green Line C\n",
      "Green Line D\n",
      "Green Line E\n",
      "Blue Line\n"
     ]
    }
   ],
   "source": [
    "URL = \"https://api-v3.mbta.com/routes\"\n",
    "types = \"0,1\"\n",
    "query_params = {'filter[type]': types}\n",
    "\n",
    "request = requests.get(url = URL, params = query_params)\n",
    "\n",
    "data = request.json()\n",
    "for i in data['data']:\n",
    "    print(i['attributes']['long_name'])"
   ]
  },
  {
   "cell_type": "markdown",
   "metadata": {},
   "source": [
    "## Question 2"
   ]
  },
  {
   "cell_type": "markdown",
   "metadata": {},
   "source": [
    "As I read this question, I began to think it may be better to represent routes and stops as objects instead of having to iterate through the response from question 1. In order to find how many stops are on a given route, we need to make a GET request to endpoint `https://api-v3.mbta.com/stops?filter[route]=TODO`  "
   ]
  },
  {
   "cell_type": "code",
   "execution_count": 23,
   "metadata": {},
   "outputs": [],
   "source": [
    "class Route:\n",
    "    def __init__(self, _id, long_name):\n",
    "        self._id = _id\n",
    "        self.long_name = long_name"
   ]
  },
  {
   "cell_type": "code",
   "execution_count": 24,
   "metadata": {},
   "outputs": [],
   "source": [
    "routes = []\n",
    "for i in data['data']:\n",
    "    route = Route(i['id'], i['attributes']['long_name'])\n",
    "    routes.append(route)"
   ]
  },
  {
   "cell_type": "code",
   "execution_count": 25,
   "metadata": {},
   "outputs": [],
   "source": [
    "class Stop:\n",
    "    def __init__(self, _id, name, route):\n",
    "        self._id = _id\n",
    "        self.name = name\n",
    "        self.route = route"
   ]
  },
  {
   "cell_type": "code",
   "execution_count": 26,
   "metadata": {},
   "outputs": [],
   "source": [
    "URL = \"https://api-v3.mbta.com/stops\"\n",
    "\n",
    "# For parts 1 and 2\n",
    "stops = []\n",
    "routes_with_stops = {}\n",
    "\n",
    "# For part 3, dict with key: stop, value: [# routes that stop here, [names of routes]]\n",
    "stops_with_routes = {}\n",
    "for route in routes:\n",
    "    route_id = route._id\n",
    "\n",
    "    query_params = {'filter[route]': ('%s'%route_id)}\n",
    "    request = requests.get(url = URL, params = query_params)\n",
    "    data = request.json()\n",
    "    \n",
    "    routes_with_stops[route_id] = 0\n",
    "    \n",
    "    for i in data['data']:\n",
    "        stop = Stop(i['id'], i['attributes']['name'], route_id)\n",
    "        stops.append(stop)\n",
    "        routes_with_stops[route_id] += 1\n",
    "        \n",
    "        if stop.name in stops_with_routes.keys():\n",
    "            stops_with_routes[stop.name][0] += 1\n",
    "            if route_id not in stops_with_routes[stop.name][1]: \n",
    "                stops_with_routes[stop.name][1].append(route_id) \n",
    "        else:\n",
    "            stops_with_routes[stop.name] = [1, [route_id]]\n",
    "\n",
    "        \n",
    "most_stops = float(\"-inf\")\n",
    "least_stops = float(\"inf\")\n",
    "route_most_stops = \"\"\n",
    "route_least_stops = \"\"\n",
    "for route,stop in routes_with_stops.items():\n",
    "    if stop > most_stops:\n",
    "        most_stops = stop\n",
    "        route_most_stops = route\n",
    "    if stop < least_stops:\n",
    "        least_stops = stop\n",
    "        route_least_stops = route"
   ]
  },
  {
   "cell_type": "markdown",
   "metadata": {},
   "source": [
    "### Part 1"
   ]
  },
  {
   "cell_type": "code",
   "execution_count": 27,
   "metadata": {},
   "outputs": [
    {
     "name": "stdout",
     "output_type": "stream",
     "text": [
      "Subway route with most stops: Green-B (24 stops)\n"
     ]
    }
   ],
   "source": [
    "print(\"Subway route with most stops: %s (%s stops)\"%(route_most_stops, most_stops))"
   ]
  },
  {
   "cell_type": "markdown",
   "metadata": {},
   "source": [
    "### Part 2"
   ]
  },
  {
   "cell_type": "code",
   "execution_count": 28,
   "metadata": {},
   "outputs": [
    {
     "name": "stdout",
     "output_type": "stream",
     "text": [
      "Subway route with least stops: Mattapan (8 stops)\n"
     ]
    }
   ],
   "source": [
    "print(\"Subway route with least stops: %s (%s stops)\"%(route_least_stops, least_stops))"
   ]
  },
  {
   "cell_type": "markdown",
   "metadata": {},
   "source": [
    "### Part 3"
   ]
  },
  {
   "cell_type": "code",
   "execution_count": 29,
   "metadata": {},
   "outputs": [
    {
     "name": "stdout",
     "output_type": "stream",
     "text": [
      "The following stops connect 2 or more subway routes:\n",
      "stop: Park Street; routes that connect: ['Red', 'Green-B', 'Green-C', 'Green-D', 'Green-E']\n",
      "stop: Downtown Crossing; routes that connect: ['Red', 'Orange']\n",
      "stop: Ashmont; routes that connect: ['Red', 'Mattapan']\n",
      "stop: State; routes that connect: ['Orange', 'Blue']\n",
      "stop: Haymarket; routes that connect: ['Orange', 'Green-C', 'Green-E']\n",
      "stop: North Station; routes that connect: ['Orange', 'Green-C', 'Green-E']\n",
      "stop: Saint Paul Street; routes that connect: ['Green-B', 'Green-C']\n",
      "stop: Kenmore; routes that connect: ['Green-B', 'Green-C', 'Green-D']\n",
      "stop: Hynes Convention Center; routes that connect: ['Green-B', 'Green-C', 'Green-D']\n",
      "stop: Copley; routes that connect: ['Green-B', 'Green-C', 'Green-D', 'Green-E']\n",
      "stop: Arlington; routes that connect: ['Green-B', 'Green-C', 'Green-D', 'Green-E']\n",
      "stop: Boylston; routes that connect: ['Green-B', 'Green-C', 'Green-D', 'Green-E']\n",
      "stop: Government Center; routes that connect: ['Green-C', 'Green-D', 'Green-E', 'Blue']\n"
     ]
    }
   ],
   "source": [
    "print(\"The following stops connect 2 or more subway routes:\")\n",
    "for stop, routes in stops_with_routes.items():\n",
    "    if routes[0] > 1:\n",
    "        print(\"stop: \" + str(stop) + \"; routes that connect: \" + str(routes[1]))"
   ]
  },
  {
   "cell_type": "markdown",
   "metadata": {},
   "source": [
    "## Question 3"
   ]
  },
  {
   "cell_type": "code",
   "execution_count": 92,
   "metadata": {},
   "outputs": [
    {
     "name": "stdout",
     "output_type": "stream",
     "text": [
      "Redline, Greenline, Orangeline, Blueline\n"
     ]
    }
   ],
   "source": [
    "def getStop(stop):\n",
    "    for i in stops:\n",
    "        if stop in i.name:\n",
    "            return i\n",
    "\n",
    "def findRoute(start, end, res):\n",
    "    start = getStop(start)\n",
    "    end = getStop(end)\n",
    "    res = findAllRoutes(start.route, end.route, res, set())\n",
    "    green_line = False\n",
    "    ans = \"\"\n",
    "    for i in res:\n",
    "        if \"Green\" in i:\n",
    "            if not green_line:\n",
    "                ans += \"Greenline, \"\n",
    "                green_line = True\n",
    "        else:\n",
    "            ans += i + \"line, \"\n",
    "    return ans[:-2]\n",
    "        \n",
    "    \n",
    "def findAllRoutes(start_route, end_route, res, seen):\n",
    "    if start_route == end_route:\n",
    "        res.append(end_route)\n",
    "        return res\n",
    "    for stop, routes in stops_with_routes.items():\n",
    "        if len(routes[1]) > 1:\n",
    "            if start_route in routes[1]:\n",
    "                for route in routes[1]:\n",
    "                    if route != start_route and route not in seen:\n",
    "                        res.append(start_route)\n",
    "                        seen.add(start_route)\n",
    "                        start_route = route\n",
    "                        return findAllRoutes(start_route, end_route, res, seen)\n",
    "                    \n",
    "print(findRoute(\"Broadway\", \"Aquarium\", []))\n",
    "    \n",
    "    "
   ]
  },
  {
   "cell_type": "markdown",
   "metadata": {},
   "source": [
    "If the above cell does not print anything then we know we cannot get from stop 1 to stop 2."
   ]
  }
 ],
 "metadata": {
  "kernelspec": {
   "display_name": "Python 3",
   "language": "python",
   "name": "python3"
  },
  "language_info": {
   "codemirror_mode": {
    "name": "ipython",
    "version": 3
   },
   "file_extension": ".py",
   "mimetype": "text/x-python",
   "name": "python",
   "nbconvert_exporter": "python",
   "pygments_lexer": "ipython3",
   "version": "3.7.6"
  }
 },
 "nbformat": 4,
 "nbformat_minor": 4
}
